{
 "cells": [
  {
   "cell_type": "markdown",
   "metadata": {},
   "source": [
    "<h2>Wine Quality Prediction</h2>\n",
    "\n",
    "Started: 12th of July, 2018\n",
    "\n",
    "Finished: 12th of July, 2018\n",
    "\n",
    "In this notebook I am going to build my very first regression/prediction machine learning project with no external sources or help. Hopefully it will succeed. I will try to find a simple and interesting dataset from <a href=\"https://www.kaggle.com/datasets\">www.kaggle.com</a> or some other website. Note: regression may not be the best solution, seems more like a classification problem, but the dataset seems good for both categories and I would like to practice regression.\n",
    "\n"
   ]
  },
  {
   "cell_type": "code",
   "execution_count": 149,
   "metadata": {},
   "outputs": [],
   "source": [
    "#some things I will need\n",
    "import matplotlib.pyplot as plt\n",
    "import pandas as pd\n",
    "import numpy as np\n",
    "import matplotlib\n",
    "import pickle\n",
    "\n",
    "from sklearn.model_selection import StratifiedShuffleSplit\n",
    "from sklearn.preprocessing import StandardScaler\n",
    "from sklearn.ensemble import RandomForestRegressor\n",
    "from sklearn.tree import DecisionTreeRegressor\n",
    "from sklearn.svm import SVR\n",
    "from sklearn.pipeline import Pipeline\n",
    "from sklearn.metrics import confusion_matrix, mean_squared_error\n",
    "from sklearn.model_selection import RandomizedSearchCV\n",
    "\n",
    "from scipy.stats import randint, reciprocal, expon\n",
    "\n",
    "from pandas.plotting import scatter_matrix\n",
    "\n",
    "%matplotlib inline"
   ]
  },
  {
   "cell_type": "markdown",
   "metadata": {},
   "source": [
    "<h1>Getting the Data</h1>"
   ]
  },
  {
   "cell_type": "code",
   "execution_count": 8,
   "metadata": {},
   "outputs": [],
   "source": [
    "import os\n",
    "from six.moves import urllib\n",
    "\n",
    "LINK = \"https://archive.ics.uci.edu/ml/machine-learning-databases/wine-quality/\"\n",
    "WINE_PATH = \"datasets/wines\"\n",
    "files = [\"winequality-red.csv\", \"winequality-white.csv\", \"winequality.names\"]\n",
    "\n",
    "def fetch_data(url=LINK, wine=WINE_PATH):\n",
    "    if not os.path.isdir(wine):\n",
    "        os.makedirs(wine)\n",
    "    for download in files:\n",
    "        download_path = url + download\n",
    "        file_path = os.path.join(wine, download)\n",
    "        urllib.request.urlretrieve(download_path, file_path)\n",
    "        \n",
    "fetch_data()"
   ]
  },
  {
   "cell_type": "code",
   "execution_count": 19,
   "metadata": {},
   "outputs": [],
   "source": [
    "def load_data(load_path = WINE_PATH):\n",
    "    csv_red_wine = os.path.join(load_path, files[0])\n",
    "    csv_white_wine = os.path.join(load_path, files[1])\n",
    "    return pd.read_csv(csv_red_wine), pd.read_csv(csv_white_wine)\n",
    "\n",
    "red_wine, white_wine = load_data()"
   ]
  },
  {
   "cell_type": "markdown",
   "metadata": {},
   "source": [
    "# Splitting the Training and Testing Datasets\n",
    "\n",
    "This is highly recommended to avoid over- or underfitting. I will split them using a stratifying method."
   ]
  },
  {
   "cell_type": "code",
   "execution_count": 33,
   "metadata": {},
   "outputs": [
    {
     "name": "stdout",
     "output_type": "stream",
     "text": [
      "5    0.425891\n",
      "6    0.398999\n",
      "7    0.124453\n",
      "4    0.033146\n",
      "8    0.011257\n",
      "3    0.006254\n",
      "Name: quality, dtype: float64\n",
      "5    0.426114\n",
      "6    0.398749\n",
      "7    0.124316\n",
      "4    0.032838\n",
      "8    0.011728\n",
      "3    0.006255\n",
      "Name: quality, dtype: float64\n"
     ]
    }
   ],
   "source": [
    "split = StratifiedShuffleSplit(n_splits=1, test_size=0.2, random_state=42)\n",
    "\n",
    "for train_idx, test_idx in split.split(red_wine, red_wine[\"quality\"]):\n",
    "    r_train = red_wine.loc[train_idx]\n",
    "    r_test = red_wine.loc[test_idx]\n",
    "\n",
    "print(red_wine[\"quality\"].value_counts() / len(red_wine))\n",
    "print(r_train[\"quality\"].value_counts() / len(r_train))"
   ]
  },
  {
   "cell_type": "markdown",
   "metadata": {},
   "source": [
    "With this I've succesfully avoided to have a biased predictor... I will do the same for white wines."
   ]
  },
  {
   "cell_type": "code",
   "execution_count": 34,
   "metadata": {},
   "outputs": [
    {
     "name": "stdout",
     "output_type": "stream",
     "text": [
      "6    0.448755\n",
      "5    0.297468\n",
      "7    0.179665\n",
      "8    0.035729\n",
      "4    0.033279\n",
      "3    0.004083\n",
      "9    0.001021\n",
      "Name: quality, dtype: float64\n",
      "6    0.448698\n",
      "5    0.297601\n",
      "7    0.179684\n",
      "8    0.035733\n",
      "4    0.033180\n",
      "3    0.004084\n",
      "9    0.001021\n",
      "Name: quality, dtype: float64\n"
     ]
    }
   ],
   "source": [
    "for train_idx, test_idx in split.split(white_wine, white_wine[\"quality\"]):\n",
    "    w_train = white_wine.loc[train_idx]\n",
    "    W_test = white_wine.loc[test_idx]\n",
    "\n",
    "print(white_wine[\"quality\"].value_counts() / len(white_wine))\n",
    "print(w_train[\"quality\"].value_counts() / len(w_train))"
   ]
  },
  {
   "cell_type": "markdown",
   "metadata": {},
   "source": [
    "# Getting to know the Data\n",
    "\n",
    "I would like to know better the data before starting anything else. I'll just use some simple tools provided by pandas to explore the attributes and features. Since I have two types of wine I am going to visualize, train, and make predictions with them separately. The two datasets are related to red and white variants of the Portuguese \"Vinho Verde\" wine. "
   ]
  },
  {
   "cell_type": "code",
   "execution_count": 35,
   "metadata": {},
   "outputs": [
    {
     "data": {
      "text/html": [
       "<div>\n",
       "<style scoped>\n",
       "    .dataframe tbody tr th:only-of-type {\n",
       "        vertical-align: middle;\n",
       "    }\n",
       "\n",
       "    .dataframe tbody tr th {\n",
       "        vertical-align: top;\n",
       "    }\n",
       "\n",
       "    .dataframe thead th {\n",
       "        text-align: right;\n",
       "    }\n",
       "</style>\n",
       "<table border=\"1\" class=\"dataframe\">\n",
       "  <thead>\n",
       "    <tr style=\"text-align: right;\">\n",
       "      <th></th>\n",
       "      <th>fixed acidity</th>\n",
       "      <th>volatile acidity</th>\n",
       "      <th>citric acid</th>\n",
       "      <th>residual sugar</th>\n",
       "      <th>chlorides</th>\n",
       "      <th>free sulfur dioxide</th>\n",
       "      <th>total sulfur dioxide</th>\n",
       "      <th>density</th>\n",
       "      <th>pH</th>\n",
       "      <th>sulphates</th>\n",
       "      <th>alcohol</th>\n",
       "      <th>quality</th>\n",
       "    </tr>\n",
       "  </thead>\n",
       "  <tbody>\n",
       "    <tr>\n",
       "      <th>1542</th>\n",
       "      <td>6.7</td>\n",
       "      <td>0.855</td>\n",
       "      <td>0.02</td>\n",
       "      <td>1.9</td>\n",
       "      <td>0.064</td>\n",
       "      <td>29.0</td>\n",
       "      <td>38.0</td>\n",
       "      <td>0.99472</td>\n",
       "      <td>3.30</td>\n",
       "      <td>0.56</td>\n",
       "      <td>10.75</td>\n",
       "      <td>6</td>\n",
       "    </tr>\n",
       "    <tr>\n",
       "      <th>1558</th>\n",
       "      <td>6.9</td>\n",
       "      <td>0.630</td>\n",
       "      <td>0.33</td>\n",
       "      <td>6.7</td>\n",
       "      <td>0.235</td>\n",
       "      <td>66.0</td>\n",
       "      <td>115.0</td>\n",
       "      <td>0.99787</td>\n",
       "      <td>3.22</td>\n",
       "      <td>0.56</td>\n",
       "      <td>9.50</td>\n",
       "      <td>5</td>\n",
       "    </tr>\n",
       "    <tr>\n",
       "      <th>344</th>\n",
       "      <td>11.9</td>\n",
       "      <td>0.570</td>\n",
       "      <td>0.50</td>\n",
       "      <td>2.6</td>\n",
       "      <td>0.082</td>\n",
       "      <td>6.0</td>\n",
       "      <td>32.0</td>\n",
       "      <td>1.00060</td>\n",
       "      <td>3.12</td>\n",
       "      <td>0.78</td>\n",
       "      <td>10.70</td>\n",
       "      <td>6</td>\n",
       "    </tr>\n",
       "    <tr>\n",
       "      <th>924</th>\n",
       "      <td>8.6</td>\n",
       "      <td>0.470</td>\n",
       "      <td>0.27</td>\n",
       "      <td>2.3</td>\n",
       "      <td>0.055</td>\n",
       "      <td>14.0</td>\n",
       "      <td>28.0</td>\n",
       "      <td>0.99516</td>\n",
       "      <td>3.18</td>\n",
       "      <td>0.80</td>\n",
       "      <td>11.20</td>\n",
       "      <td>5</td>\n",
       "    </tr>\n",
       "    <tr>\n",
       "      <th>971</th>\n",
       "      <td>10.4</td>\n",
       "      <td>0.260</td>\n",
       "      <td>0.48</td>\n",
       "      <td>1.9</td>\n",
       "      <td>0.066</td>\n",
       "      <td>6.0</td>\n",
       "      <td>10.0</td>\n",
       "      <td>0.99724</td>\n",
       "      <td>3.33</td>\n",
       "      <td>0.87</td>\n",
       "      <td>10.90</td>\n",
       "      <td>6</td>\n",
       "    </tr>\n",
       "  </tbody>\n",
       "</table>\n",
       "</div>"
      ],
      "text/plain": [
       "      fixed acidity  volatile acidity  citric acid  residual sugar  chlorides  \\\n",
       "1542            6.7             0.855         0.02             1.9      0.064   \n",
       "1558            6.9             0.630         0.33             6.7      0.235   \n",
       "344            11.9             0.570         0.50             2.6      0.082   \n",
       "924             8.6             0.470         0.27             2.3      0.055   \n",
       "971            10.4             0.260         0.48             1.9      0.066   \n",
       "\n",
       "      free sulfur dioxide  total sulfur dioxide  density    pH  sulphates  \\\n",
       "1542                 29.0                  38.0  0.99472  3.30       0.56   \n",
       "1558                 66.0                 115.0  0.99787  3.22       0.56   \n",
       "344                   6.0                  32.0  1.00060  3.12       0.78   \n",
       "924                  14.0                  28.0  0.99516  3.18       0.80   \n",
       "971                   6.0                  10.0  0.99724  3.33       0.87   \n",
       "\n",
       "      alcohol  quality  \n",
       "1542    10.75        6  \n",
       "1558     9.50        5  \n",
       "344     10.70        6  \n",
       "924     11.20        5  \n",
       "971     10.90        6  "
      ]
     },
     "execution_count": 35,
     "metadata": {},
     "output_type": "execute_result"
    }
   ],
   "source": [
    "r_train.head()"
   ]
  },
  {
   "cell_type": "markdown",
   "metadata": {},
   "source": [
    "The dataset seems clear and okay at first sight. I have only numerical data, so I won't need to labelize any attribute."
   ]
  },
  {
   "cell_type": "code",
   "execution_count": 36,
   "metadata": {},
   "outputs": [
    {
     "name": "stdout",
     "output_type": "stream",
     "text": [
      "<class 'pandas.core.frame.DataFrame'>\n",
      "Int64Index: 1279 entries, 1542 to 1083\n",
      "Data columns (total 12 columns):\n",
      "fixed acidity           1279 non-null float64\n",
      "volatile acidity        1279 non-null float64\n",
      "citric acid             1279 non-null float64\n",
      "residual sugar          1279 non-null float64\n",
      "chlorides               1279 non-null float64\n",
      "free sulfur dioxide     1279 non-null float64\n",
      "total sulfur dioxide    1279 non-null float64\n",
      "density                 1279 non-null float64\n",
      "pH                      1279 non-null float64\n",
      "sulphates               1279 non-null float64\n",
      "alcohol                 1279 non-null float64\n",
      "quality                 1279 non-null int64\n",
      "dtypes: float64(11), int64(1)\n",
      "memory usage: 129.9 KB\n"
     ]
    }
   ],
   "source": [
    "r_train.info()    "
   ]
  },
  {
   "cell_type": "code",
   "execution_count": 37,
   "metadata": {},
   "outputs": [
    {
     "data": {
      "text/html": [
       "<div>\n",
       "<style scoped>\n",
       "    .dataframe tbody tr th:only-of-type {\n",
       "        vertical-align: middle;\n",
       "    }\n",
       "\n",
       "    .dataframe tbody tr th {\n",
       "        vertical-align: top;\n",
       "    }\n",
       "\n",
       "    .dataframe thead th {\n",
       "        text-align: right;\n",
       "    }\n",
       "</style>\n",
       "<table border=\"1\" class=\"dataframe\">\n",
       "  <thead>\n",
       "    <tr style=\"text-align: right;\">\n",
       "      <th></th>\n",
       "      <th>fixed acidity</th>\n",
       "      <th>volatile acidity</th>\n",
       "      <th>citric acid</th>\n",
       "      <th>residual sugar</th>\n",
       "      <th>chlorides</th>\n",
       "      <th>free sulfur dioxide</th>\n",
       "      <th>total sulfur dioxide</th>\n",
       "      <th>density</th>\n",
       "      <th>pH</th>\n",
       "      <th>sulphates</th>\n",
       "      <th>alcohol</th>\n",
       "      <th>quality</th>\n",
       "    </tr>\n",
       "  </thead>\n",
       "  <tbody>\n",
       "    <tr>\n",
       "      <th>count</th>\n",
       "      <td>1279.000000</td>\n",
       "      <td>1279.000000</td>\n",
       "      <td>1279.000000</td>\n",
       "      <td>1279.000000</td>\n",
       "      <td>1279.000000</td>\n",
       "      <td>1279.000000</td>\n",
       "      <td>1279.000000</td>\n",
       "      <td>1279.000000</td>\n",
       "      <td>1279.000000</td>\n",
       "      <td>1279.000000</td>\n",
       "      <td>1279.000000</td>\n",
       "      <td>1279.000000</td>\n",
       "    </tr>\n",
       "    <tr>\n",
       "      <th>mean</th>\n",
       "      <td>8.306489</td>\n",
       "      <td>0.528073</td>\n",
       "      <td>0.273878</td>\n",
       "      <td>2.543589</td>\n",
       "      <td>0.088934</td>\n",
       "      <td>16.127834</td>\n",
       "      <td>47.280688</td>\n",
       "      <td>0.996735</td>\n",
       "      <td>3.308585</td>\n",
       "      <td>0.663675</td>\n",
       "      <td>10.424446</td>\n",
       "      <td>5.637217</td>\n",
       "    </tr>\n",
       "    <tr>\n",
       "      <th>std</th>\n",
       "      <td>1.695325</td>\n",
       "      <td>0.177710</td>\n",
       "      <td>0.194902</td>\n",
       "      <td>1.375697</td>\n",
       "      <td>0.050981</td>\n",
       "      <td>10.473562</td>\n",
       "      <td>33.334786</td>\n",
       "      <td>0.001852</td>\n",
       "      <td>0.151599</td>\n",
       "      <td>0.178360</td>\n",
       "      <td>1.065672</td>\n",
       "      <td>0.808633</td>\n",
       "    </tr>\n",
       "    <tr>\n",
       "      <th>min</th>\n",
       "      <td>4.600000</td>\n",
       "      <td>0.120000</td>\n",
       "      <td>0.000000</td>\n",
       "      <td>0.900000</td>\n",
       "      <td>0.012000</td>\n",
       "      <td>1.000000</td>\n",
       "      <td>6.000000</td>\n",
       "      <td>0.990070</td>\n",
       "      <td>2.740000</td>\n",
       "      <td>0.370000</td>\n",
       "      <td>8.400000</td>\n",
       "      <td>3.000000</td>\n",
       "    </tr>\n",
       "    <tr>\n",
       "      <th>25%</th>\n",
       "      <td>7.100000</td>\n",
       "      <td>0.395000</td>\n",
       "      <td>0.100000</td>\n",
       "      <td>1.900000</td>\n",
       "      <td>0.070000</td>\n",
       "      <td>7.000000</td>\n",
       "      <td>22.000000</td>\n",
       "      <td>0.995600</td>\n",
       "      <td>3.210000</td>\n",
       "      <td>0.550000</td>\n",
       "      <td>9.500000</td>\n",
       "      <td>5.000000</td>\n",
       "    </tr>\n",
       "    <tr>\n",
       "      <th>50%</th>\n",
       "      <td>7.900000</td>\n",
       "      <td>0.520000</td>\n",
       "      <td>0.260000</td>\n",
       "      <td>2.200000</td>\n",
       "      <td>0.080000</td>\n",
       "      <td>14.000000</td>\n",
       "      <td>39.000000</td>\n",
       "      <td>0.996750</td>\n",
       "      <td>3.310000</td>\n",
       "      <td>0.620000</td>\n",
       "      <td>10.200000</td>\n",
       "      <td>6.000000</td>\n",
       "    </tr>\n",
       "    <tr>\n",
       "      <th>75%</th>\n",
       "      <td>9.300000</td>\n",
       "      <td>0.635000</td>\n",
       "      <td>0.430000</td>\n",
       "      <td>2.600000</td>\n",
       "      <td>0.091000</td>\n",
       "      <td>22.000000</td>\n",
       "      <td>64.000000</td>\n",
       "      <td>0.997800</td>\n",
       "      <td>3.400000</td>\n",
       "      <td>0.740000</td>\n",
       "      <td>11.100000</td>\n",
       "      <td>6.000000</td>\n",
       "    </tr>\n",
       "    <tr>\n",
       "      <th>max</th>\n",
       "      <td>15.900000</td>\n",
       "      <td>1.580000</td>\n",
       "      <td>1.000000</td>\n",
       "      <td>15.400000</td>\n",
       "      <td>0.611000</td>\n",
       "      <td>68.000000</td>\n",
       "      <td>289.000000</td>\n",
       "      <td>1.003690</td>\n",
       "      <td>3.900000</td>\n",
       "      <td>2.000000</td>\n",
       "      <td>14.900000</td>\n",
       "      <td>8.000000</td>\n",
       "    </tr>\n",
       "  </tbody>\n",
       "</table>\n",
       "</div>"
      ],
      "text/plain": [
       "       fixed acidity  volatile acidity  citric acid  residual sugar  \\\n",
       "count    1279.000000       1279.000000  1279.000000     1279.000000   \n",
       "mean        8.306489          0.528073     0.273878        2.543589   \n",
       "std         1.695325          0.177710     0.194902        1.375697   \n",
       "min         4.600000          0.120000     0.000000        0.900000   \n",
       "25%         7.100000          0.395000     0.100000        1.900000   \n",
       "50%         7.900000          0.520000     0.260000        2.200000   \n",
       "75%         9.300000          0.635000     0.430000        2.600000   \n",
       "max        15.900000          1.580000     1.000000       15.400000   \n",
       "\n",
       "         chlorides  free sulfur dioxide  total sulfur dioxide      density  \\\n",
       "count  1279.000000          1279.000000           1279.000000  1279.000000   \n",
       "mean      0.088934            16.127834             47.280688     0.996735   \n",
       "std       0.050981            10.473562             33.334786     0.001852   \n",
       "min       0.012000             1.000000              6.000000     0.990070   \n",
       "25%       0.070000             7.000000             22.000000     0.995600   \n",
       "50%       0.080000            14.000000             39.000000     0.996750   \n",
       "75%       0.091000            22.000000             64.000000     0.997800   \n",
       "max       0.611000            68.000000            289.000000     1.003690   \n",
       "\n",
       "                pH    sulphates      alcohol      quality  \n",
       "count  1279.000000  1279.000000  1279.000000  1279.000000  \n",
       "mean      3.308585     0.663675    10.424446     5.637217  \n",
       "std       0.151599     0.178360     1.065672     0.808633  \n",
       "min       2.740000     0.370000     8.400000     3.000000  \n",
       "25%       3.210000     0.550000     9.500000     5.000000  \n",
       "50%       3.310000     0.620000    10.200000     6.000000  \n",
       "75%       3.400000     0.740000    11.100000     6.000000  \n",
       "max       3.900000     2.000000    14.900000     8.000000  "
      ]
     },
     "execution_count": 37,
     "metadata": {},
     "output_type": "execute_result"
    }
   ],
   "source": [
    "r_train.describe()"
   ]
  },
  {
   "cell_type": "markdown",
   "metadata": {},
   "source": [
    "Most of the red wines got an average quality of 5 or 6, I think it will be neccessary to use an algorithm for outliers."
   ]
  },
  {
   "cell_type": "code",
   "execution_count": 38,
   "metadata": {},
   "outputs": [
    {
     "data": {
      "text/html": [
       "<div>\n",
       "<style scoped>\n",
       "    .dataframe tbody tr th:only-of-type {\n",
       "        vertical-align: middle;\n",
       "    }\n",
       "\n",
       "    .dataframe tbody tr th {\n",
       "        vertical-align: top;\n",
       "    }\n",
       "\n",
       "    .dataframe thead th {\n",
       "        text-align: right;\n",
       "    }\n",
       "</style>\n",
       "<table border=\"1\" class=\"dataframe\">\n",
       "  <thead>\n",
       "    <tr style=\"text-align: right;\">\n",
       "      <th></th>\n",
       "      <th>fixed acidity</th>\n",
       "      <th>volatile acidity</th>\n",
       "      <th>citric acid</th>\n",
       "      <th>residual sugar</th>\n",
       "      <th>chlorides</th>\n",
       "      <th>free sulfur dioxide</th>\n",
       "      <th>total sulfur dioxide</th>\n",
       "      <th>density</th>\n",
       "      <th>pH</th>\n",
       "      <th>sulphates</th>\n",
       "      <th>alcohol</th>\n",
       "      <th>quality</th>\n",
       "    </tr>\n",
       "  </thead>\n",
       "  <tbody>\n",
       "    <tr>\n",
       "      <th>count</th>\n",
       "      <td>3918.000000</td>\n",
       "      <td>3918.000000</td>\n",
       "      <td>3918.000000</td>\n",
       "      <td>3918.000000</td>\n",
       "      <td>3918.000000</td>\n",
       "      <td>3918.000000</td>\n",
       "      <td>3918.000000</td>\n",
       "      <td>3918.000000</td>\n",
       "      <td>3918.000000</td>\n",
       "      <td>3918.000000</td>\n",
       "      <td>3918.000000</td>\n",
       "      <td>3918.000000</td>\n",
       "    </tr>\n",
       "    <tr>\n",
       "      <th>mean</th>\n",
       "      <td>6.860324</td>\n",
       "      <td>0.277491</td>\n",
       "      <td>0.334104</td>\n",
       "      <td>6.423175</td>\n",
       "      <td>0.045738</td>\n",
       "      <td>35.455207</td>\n",
       "      <td>138.384380</td>\n",
       "      <td>0.994053</td>\n",
       "      <td>3.188839</td>\n",
       "      <td>0.489096</td>\n",
       "      <td>10.506281</td>\n",
       "      <td>5.877999</td>\n",
       "    </tr>\n",
       "    <tr>\n",
       "      <th>std</th>\n",
       "      <td>0.853426</td>\n",
       "      <td>0.099712</td>\n",
       "      <td>0.121029</td>\n",
       "      <td>5.103707</td>\n",
       "      <td>0.021377</td>\n",
       "      <td>17.118267</td>\n",
       "      <td>42.451829</td>\n",
       "      <td>0.003008</td>\n",
       "      <td>0.152845</td>\n",
       "      <td>0.113876</td>\n",
       "      <td>1.224799</td>\n",
       "      <td>0.885547</td>\n",
       "    </tr>\n",
       "    <tr>\n",
       "      <th>min</th>\n",
       "      <td>3.800000</td>\n",
       "      <td>0.080000</td>\n",
       "      <td>0.000000</td>\n",
       "      <td>0.600000</td>\n",
       "      <td>0.009000</td>\n",
       "      <td>2.000000</td>\n",
       "      <td>9.000000</td>\n",
       "      <td>0.987110</td>\n",
       "      <td>2.720000</td>\n",
       "      <td>0.220000</td>\n",
       "      <td>8.000000</td>\n",
       "      <td>3.000000</td>\n",
       "    </tr>\n",
       "    <tr>\n",
       "      <th>25%</th>\n",
       "      <td>6.300000</td>\n",
       "      <td>0.210000</td>\n",
       "      <td>0.270000</td>\n",
       "      <td>1.700000</td>\n",
       "      <td>0.036000</td>\n",
       "      <td>24.000000</td>\n",
       "      <td>109.000000</td>\n",
       "      <td>0.991760</td>\n",
       "      <td>3.080000</td>\n",
       "      <td>0.410000</td>\n",
       "      <td>9.500000</td>\n",
       "      <td>5.000000</td>\n",
       "    </tr>\n",
       "    <tr>\n",
       "      <th>50%</th>\n",
       "      <td>6.800000</td>\n",
       "      <td>0.260000</td>\n",
       "      <td>0.320000</td>\n",
       "      <td>5.200000</td>\n",
       "      <td>0.043000</td>\n",
       "      <td>34.000000</td>\n",
       "      <td>134.000000</td>\n",
       "      <td>0.993780</td>\n",
       "      <td>3.180000</td>\n",
       "      <td>0.470000</td>\n",
       "      <td>10.400000</td>\n",
       "      <td>6.000000</td>\n",
       "    </tr>\n",
       "    <tr>\n",
       "      <th>75%</th>\n",
       "      <td>7.300000</td>\n",
       "      <td>0.320000</td>\n",
       "      <td>0.390000</td>\n",
       "      <td>9.975000</td>\n",
       "      <td>0.050000</td>\n",
       "      <td>46.000000</td>\n",
       "      <td>167.000000</td>\n",
       "      <td>0.996158</td>\n",
       "      <td>3.280000</td>\n",
       "      <td>0.550000</td>\n",
       "      <td>11.400000</td>\n",
       "      <td>6.000000</td>\n",
       "    </tr>\n",
       "    <tr>\n",
       "      <th>max</th>\n",
       "      <td>14.200000</td>\n",
       "      <td>1.100000</td>\n",
       "      <td>1.660000</td>\n",
       "      <td>65.800000</td>\n",
       "      <td>0.346000</td>\n",
       "      <td>289.000000</td>\n",
       "      <td>440.000000</td>\n",
       "      <td>1.038980</td>\n",
       "      <td>3.820000</td>\n",
       "      <td>1.080000</td>\n",
       "      <td>14.200000</td>\n",
       "      <td>9.000000</td>\n",
       "    </tr>\n",
       "  </tbody>\n",
       "</table>\n",
       "</div>"
      ],
      "text/plain": [
       "       fixed acidity  volatile acidity  citric acid  residual sugar  \\\n",
       "count    3918.000000       3918.000000  3918.000000     3918.000000   \n",
       "mean        6.860324          0.277491     0.334104        6.423175   \n",
       "std         0.853426          0.099712     0.121029        5.103707   \n",
       "min         3.800000          0.080000     0.000000        0.600000   \n",
       "25%         6.300000          0.210000     0.270000        1.700000   \n",
       "50%         6.800000          0.260000     0.320000        5.200000   \n",
       "75%         7.300000          0.320000     0.390000        9.975000   \n",
       "max        14.200000          1.100000     1.660000       65.800000   \n",
       "\n",
       "         chlorides  free sulfur dioxide  total sulfur dioxide      density  \\\n",
       "count  3918.000000          3918.000000           3918.000000  3918.000000   \n",
       "mean      0.045738            35.455207            138.384380     0.994053   \n",
       "std       0.021377            17.118267             42.451829     0.003008   \n",
       "min       0.009000             2.000000              9.000000     0.987110   \n",
       "25%       0.036000            24.000000            109.000000     0.991760   \n",
       "50%       0.043000            34.000000            134.000000     0.993780   \n",
       "75%       0.050000            46.000000            167.000000     0.996158   \n",
       "max       0.346000           289.000000            440.000000     1.038980   \n",
       "\n",
       "                pH    sulphates      alcohol      quality  \n",
       "count  3918.000000  3918.000000  3918.000000  3918.000000  \n",
       "mean      3.188839     0.489096    10.506281     5.877999  \n",
       "std       0.152845     0.113876     1.224799     0.885547  \n",
       "min       2.720000     0.220000     8.000000     3.000000  \n",
       "25%       3.080000     0.410000     9.500000     5.000000  \n",
       "50%       3.180000     0.470000    10.400000     6.000000  \n",
       "75%       3.280000     0.550000    11.400000     6.000000  \n",
       "max       3.820000     1.080000    14.200000     9.000000  "
      ]
     },
     "execution_count": 38,
     "metadata": {},
     "output_type": "execute_result"
    }
   ],
   "source": [
    "w_train.describe()"
   ]
  },
  {
   "cell_type": "markdown",
   "metadata": {},
   "source": [
    "There are even more outliers in the white wine category. I will try to use random forest regression with an outlier algorithm, that should do the job.\n",
    "\n",
    "# Visualizing the Data\n",
    "\n",
    "I am not going to analyze separately red and white wines, they seem to be really similar. Of course the regression/classification will happen separately."
   ]
  },
  {
   "cell_type": "code",
   "execution_count": 39,
   "metadata": {},
   "outputs": [
    {
     "data": {
      "image/png": "[encoded data removed]",
      "text/plain": [
       "<matplotlib.figure.Figure at 0x183be622c18>"
      ]
     },
     "metadata": {},
     "output_type": "display_data"
    }
   ],
   "source": [
    "r_train.hist(bins = 50, figsize=(20, 15))\n",
    "plt.show()"
   ]
  },
  {
   "cell_type": "markdown",
   "metadata": {},
   "source": [
    "There are too many attributes to find correlations simply by plotting them. I will use a correlations matrix to find out what makes a great white / red wine."
   ]
  },
  {
   "cell_type": "code",
   "execution_count": 47,
   "metadata": {},
   "outputs": [],
   "source": [
    "w_correlations = w_train.corr()"
   ]
  },
  {
   "cell_type": "code",
   "execution_count": 48,
   "metadata": {},
   "outputs": [
    {
     "data": {
      "text/plain": [
       "quality                 1.000000\n",
       "alcohol                 0.436667\n",
       "pH                      0.106258\n",
       "sulphates               0.054350\n",
       "free sulfur dioxide     0.010098\n",
       "citric acid            -0.003164\n",
       "residual sugar         -0.093205\n",
       "fixed acidity          -0.113035\n",
       "total sulfur dioxide   -0.171857\n",
       "volatile acidity       -0.205380\n",
       "chlorides              -0.212627\n",
       "density                -0.301902\n",
       "Name: quality, dtype: float64"
      ]
     },
     "execution_count": 48,
     "metadata": {},
     "output_type": "execute_result"
    }
   ],
   "source": [
    "w_correlations[\"quality\"].sort_values(ascending=False)"
   ]
  },
  {
   "cell_type": "markdown",
   "metadata": {},
   "source": [
    "Seems like alcohol percantage, pH value, and sulphates have a big role in the wine quality. Good to know that, let's make a visualisation about the correlations matrix."
   ]
  },
  {
   "cell_type": "code",
   "execution_count": 54,
   "metadata": {},
   "outputs": [
    {
     "data": {
      "text/plain": [
       "array([[<matplotlib.axes._subplots.AxesSubplot object at 0x00000183BEF40F98>,\n",
       "        <matplotlib.axes._subplots.AxesSubplot object at 0x00000183BEE589E8>,\n",
       "        <matplotlib.axes._subplots.AxesSubplot object at 0x00000183BE115B38>,\n",
       "        <matplotlib.axes._subplots.AxesSubplot object at 0x00000183BE1BEC88>],\n",
       "       [<matplotlib.axes._subplots.AxesSubplot object at 0x00000183BF23B208>,\n",
       "        <matplotlib.axes._subplots.AxesSubplot object at 0x00000183BF23B240>,\n",
       "        <matplotlib.axes._subplots.AxesSubplot object at 0x00000183BF17BDD8>,\n",
       "        <matplotlib.axes._subplots.AxesSubplot object at 0x00000183BF1C2E48>],\n",
       "       [<matplotlib.axes._subplots.AxesSubplot object at 0x00000183BE0BAE48>,\n",
       "        <matplotlib.axes._subplots.AxesSubplot object at 0x00000183BF1CB4E0>,\n",
       "        <matplotlib.axes._subplots.AxesSubplot object at 0x00000183BE06A630>,\n",
       "        <matplotlib.axes._subplots.AxesSubplot object at 0x00000183BDFB4CF8>],\n",
       "       [<matplotlib.axes._subplots.AxesSubplot object at 0x00000183BE0AF278>,\n",
       "        <matplotlib.axes._subplots.AxesSubplot object at 0x00000183BF14E080>,\n",
       "        <matplotlib.axes._subplots.AxesSubplot object at 0x00000183BF0C32E8>,\n",
       "        <matplotlib.axes._subplots.AxesSubplot object at 0x00000183BE008668>]], dtype=object)"
      ]
     },
     "execution_count": 54,
     "metadata": {},
     "output_type": "execute_result"
    },
    {
     "data": {
      "image/png": "[encoded data removed]",
      "text/plain": [
       "<matplotlib.figure.Figure at 0x183bee65748>"
      ]
     },
     "metadata": {},
     "output_type": "display_data"
    }
   ],
   "source": [
    "attributes = [\"quality\", \"alcohol\", \"sulphates\", \"free sulfur dioxide\"]\n",
    "scatter_matrix(w_train[attributes], figsize=(12, 8))"
   ]
  },
  {
   "cell_type": "markdown",
   "metadata": {},
   "source": [
    "Amazing, now correlations are relatively clear to me.\n",
    "\n",
    "# Preparing the Data for Machine Learning\n",
    "\n",
    "This dataset seems well organized and clear I won't change much, but I am going to use a function or pipeline for preprocessing so it will be easier to work with two datasets."
   ]
  },
  {
   "cell_type": "code",
   "execution_count": 55,
   "metadata": {},
   "outputs": [],
   "source": [
    "w_attrs = w_train.drop(\"quality\", axis=1)\n",
    "w_labels = w_train[\"quality\"]\n",
    "\n",
    "r_attrs = r_train.drop(\"quality\", axis=1)\n",
    "r_labels = r_train[\"quality\"]"
   ]
  },
  {
   "cell_type": "code",
   "execution_count": 63,
   "metadata": {},
   "outputs": [],
   "source": [
    "sc = StandardScaler()\n",
    "w_attrs = sc.fit_transform(w_attrs)\n",
    "r_attrs = sc.fit_transform(r_attrs)"
   ]
  },
  {
   "cell_type": "markdown",
   "metadata": {},
   "source": [
    "# Functions for Predictions"
   ]
  },
  {
   "cell_type": "code",
   "execution_count": 151,
   "metadata": {},
   "outputs": [],
   "source": [
    "def random_forest(data, labels):\n",
    "    forest_reg = RandomForestRegressor()\n",
    "    param_distrib = {\n",
    "        'n_estimators': randint(low = 3, high=180),\n",
    "        'bootstrap': [False, True],\n",
    "        'max_features': randint(low = 2, high=10),\n",
    "    } \n",
    "    \n",
    "    rnd_search = RandomizedSearchCV(forest_reg, param_distributions=param_distrib, n_iter = 10, cv=5, \n",
    "                                    scoring=\"neg_mean_squared_error\", random_state=42)\n",
    "    return rnd_search.fit(data, labels)\n",
    "\n",
    "\n",
    "def support_vector(data, labels):\n",
    "    sv_reg = SVR()\n",
    "    param_distribs = {\n",
    "        'kernel': ['linear', 'rbf'],\n",
    "        'C': reciprocal(20, 200000),\n",
    "        'gamma': expon(scale=1.0),\n",
    "    }\n",
    "    \n",
    "    sv_search = RandomizedSearchCV(sv_reg, param_distributions=param_distribs, n_iter = 10, cv=5, \n",
    "                                    scoring=\"neg_mean_squared_error\", random_state=42)\n",
    "    return sv_search.fit(data, labels)\n",
    "\n",
    "\n",
    "def decision_tree(data, labels):\n",
    "    tree_reg = DecisionTreeRegressor()\n",
    "    param_distribs = {\n",
    "        'max_features': randint(low=1, high=10),\n",
    "        'splitter': [\"best\", \"random\"],\n",
    "        'min_samples_split': randint(low=2, high=6),\n",
    "    }\n",
    "    \n",
    "    tree_search = RandomizedSearchCV(tree_reg, param_distributions=param_distribs, n_iter = 10, cv=5, \n",
    "                                    scoring=\"neg_mean_squared_error\", random_state=42)\n",
    "    return tree_search.fit(data, labels)\n",
    "\n",
    "def test_measurement(prediction, labels):\n",
    "    #error measurement\n",
    "    rounded_test = np.round(prediction)\n",
    "\n",
    "    correct = 0\n",
    "    for idx in range(len(rounded_test)):\n",
    "        if rounded_test[idx] == labels.iloc[idx]:\n",
    "            correct+=1\n",
    "\n",
    "    print(\"Succes rate: \", correct/len(prediction) * 100,\"%\")"
   ]
  },
  {
   "cell_type": "markdown",
   "metadata": {},
   "source": [
    "# Random Forest Regressor"
   ]
  },
  {
   "cell_type": "code",
   "execution_count": 73,
   "metadata": {},
   "outputs": [],
   "source": [
    "forest_model = random_forest(w_attrs, w_labels)\n",
    "forest_model = forest_model.best_estimator_"
   ]
  },
  {
   "cell_type": "code",
   "execution_count": 91,
   "metadata": {},
   "outputs": [
    {
     "name": "stdout",
     "output_type": "stream",
     "text": [
      "Prediction:  [ 7.  7.  5.  6.  8.]\n",
      "Real_Values: 3690    7\n",
      "3463    7\n",
      "683     5\n",
      "3698    6\n",
      "3253    8\n",
      "Name: quality, dtype: int64\n"
     ]
    }
   ],
   "source": [
    "prediction = forest_model.fit(w_attrs, w_labels).predict(w_attrs)\n",
    "print(\"Prediction: \", prediction[:5])\n",
    "print(\"Real Values:\", w_labels[:5])"
   ]
  },
  {
   "cell_type": "code",
   "execution_count": 90,
   "metadata": {},
   "outputs": [
    {
     "name": "stdout",
     "output_type": "stream",
     "text": [
      "Prediction:  [ 6.  5.  6.  5.  6.]\n",
      "Real_Values: 1542    6\n",
      "1558    5\n",
      "344     6\n",
      "924     5\n",
      "971     6\n",
      "Name: quality, dtype: int64\n"
     ]
    }
   ],
   "source": [
    "prediction = forest_model.fit(r_attrs, r_labels).predict(r_attrs)\n",
    "print(\"Prediction: \", prediction[:5])\n",
    "print(\"Real Values:\", r_labels[:5])"
   ]
  },
  {
   "cell_type": "code",
   "execution_count": 100,
   "metadata": {},
   "outputs": [
    {
     "data": {
      "text/plain": [
       "0.61299926692511364"
      ]
     },
     "execution_count": 100,
     "metadata": {},
     "output_type": "execute_result"
    }
   ],
   "source": [
    "#testing\n",
    "w_test_set = W_test.drop(\"quality\", axis=1)\n",
    "w_test_labels = W_test[\"quality\"]\n",
    "\n",
    "w_test_set = sc.fit_transform(w_test_set)\n",
    "test_pred = forest_model.predict(w_test_set)\n",
    "\n",
    "tested_mse = mean_squared_error(w_test_labels, test_pred)\n",
    "tested_rmse = np.sqrt(tested_mse)\n",
    "tested_rmse"
   ]
  },
  {
   "cell_type": "code",
   "execution_count": 133,
   "metadata": {},
   "outputs": [
    {
     "name": "stdout",
     "output_type": "stream",
     "text": [
      "Succes rate:  67.55102040816327 %\n"
     ]
    }
   ],
   "source": [
    "test_measurement(test_pred, w_test_labels)"
   ]
  },
  {
   "cell_type": "markdown",
   "metadata": {},
   "source": [
    "Not that bad, but I would like to try other methods. The model is probably is probably overfitted, but I don't have patience to fix this right now...\n",
    "\n",
    "# Decision Tree Regressor"
   ]
  },
  {
   "cell_type": "code",
   "execution_count": 127,
   "metadata": {},
   "outputs": [
    {
     "name": "stdout",
     "output_type": "stream",
     "text": [
      "DecisionTreeRegressor(criterion='mse', max_depth=None, max_features=7,\n",
      "           max_leaf_nodes=None, min_impurity_decrease=0.0,\n",
      "           min_impurity_split=None, min_samples_leaf=1,\n",
      "           min_samples_split=5, min_weight_fraction_leaf=0.0,\n",
      "           presort=False, random_state=None, splitter='best')\n"
     ]
    }
   ],
   "source": [
    "tree_model = decision_tree(w_attrs, w_labels)\n",
    "print(tree_model.best_estimator_)\n",
    "tree_model = tree_model.best_estimator_"
   ]
  },
  {
   "cell_type": "code",
   "execution_count": 154,
   "metadata": {},
   "outputs": [
    {
     "name": "stdout",
     "output_type": "stream",
     "text": [
      "Succes rate:  94.10413476263399 %\n"
     ]
    }
   ],
   "source": [
    "tree_model.fit(w_attrs, w_labels).predict(w_attrs)\n",
    "prediction = tree_model.fit(w_attrs, w_labels).predict(w_attrs)\n",
    "\n",
    "test_measurement(prediction, w_labels)"
   ]
  },
  {
   "cell_type": "code",
   "execution_count": 155,
   "metadata": {},
   "outputs": [
    {
     "name": "stdout",
     "output_type": "stream",
     "text": [
      "Succes rate:  52.244897959183675 %\n"
     ]
    }
   ],
   "source": [
    "final_prediction = tree_model.predict(w_test_set)\n",
    "test_measurement(final_prediction, w_test_labels)"
   ]
  },
  {
   "cell_type": "code",
   "execution_count": 156,
   "metadata": {},
   "outputs": [
    {
     "name": "stdout",
     "output_type": "stream",
     "text": [
      "Prediction:  [ 7.   6.5  6.   7.   6. ]\n",
      "Real Values: 3243    7\n",
      "730     6\n",
      "4702    6\n",
      "1200    6\n",
      "4326    5\n",
      "Name: quality, dtype: int64\n"
     ]
    }
   ],
   "source": [
    "print(\"Prediction: \", final_prediction[10:15])\n",
    "print(\"Real Values:\", w_test_labels[10:15])"
   ]
  },
  {
   "cell_type": "code",
   "execution_count": 158,
   "metadata": {},
   "outputs": [
    {
     "data": {
      "text/plain": [
       "0.85701884023456965"
      ]
     },
     "execution_count": 158,
     "metadata": {},
     "output_type": "execute_result"
    }
   ],
   "source": [
    "tested_mse = mean_squared_error(w_test_labels, final_prediction)\n",
    "tested_rmse = np.sqrt(tested_mse)\n",
    "tested_rmse"
   ]
  },
  {
   "cell_type": "markdown",
   "metadata": {},
   "source": [
    "This was a lot worse, but I only got a bad percentage because I wa trying to calculate efficiency with a tipical classification error calculation method. The regression algorithms did their job pretty well, the RMSE error calculation gave me a standard deviation of less than 1 that is still acceptable as a firts try.\n",
    "\n",
    "# Support Vector Machine Regressor"
   ]
  },
  {
   "cell_type": "code",
   "execution_count": 152,
   "metadata": {},
   "outputs": [
    {
     "name": "stdout",
     "output_type": "stream",
     "text": [
      "SVR(C=26290.206464300216, cache_size=200, coef0=0.0, degree=3, epsilon=0.1,\n",
      "  gamma=0.90844696963212535, kernel='rbf', max_iter=-1, shrinking=True,\n",
      "  tol=0.001, verbose=False)\n"
     ]
    }
   ],
   "source": [
    "sv_model = support_vector(w_attrs, w_labels)\n",
    "print(sv_model.best_estimator_)\n",
    "sv_model = sv_model.best_estimator_"
   ]
  },
  {
   "cell_type": "code",
   "execution_count": 161,
   "metadata": {},
   "outputs": [
    {
     "data": {
      "text/plain": [
       "0.096332288564743976"
      ]
     },
     "execution_count": 161,
     "metadata": {},
     "output_type": "execute_result"
    }
   ],
   "source": [
    "prediction = sv_model.fit(w_attrs, w_labels).predict(w_attrs)\n",
    "tested_mse = mean_squared_error(w_labels, prediction)\n",
    "tested_rmse = np.sqrt(tested_mse)\n",
    "tested_rmse"
   ]
  },
  {
   "cell_type": "code",
   "execution_count": 163,
   "metadata": {},
   "outputs": [
    {
     "name": "stdout",
     "output_type": "stream",
     "text": [
      "Succes rate:  100.0 %\n"
     ]
    }
   ],
   "source": [
    "test_measurement(prediction, w_labels)"
   ]
  },
  {
   "cell_type": "markdown",
   "metadata": {},
   "source": [
    "This looks really promising, the training took almost two hours, so this should work properly."
   ]
  },
  {
   "cell_type": "code",
   "execution_count": 165,
   "metadata": {},
   "outputs": [
    {
     "data": {
      "text/plain": [
       "0.6590383756350201"
      ]
     },
     "execution_count": 165,
     "metadata": {},
     "output_type": "execute_result"
    }
   ],
   "source": [
    "final_prediction = sv_model.predict(w_test_set)\n",
    "tested_mse = mean_squared_error(w_test_labels, final_prediction)\n",
    "tested_rmse = np.sqrt(tested_mse)\n",
    "tested_rmse"
   ]
  },
  {
   "cell_type": "code",
   "execution_count": 166,
   "metadata": {},
   "outputs": [
    {
     "name": "stdout",
     "output_type": "stream",
     "text": [
      "Succes rate:  65.0 %\n"
     ]
    }
   ],
   "source": [
    "test_measurement(final_prediction, w_test_labels)"
   ]
  },
  {
   "cell_type": "markdown",
   "metadata": {},
   "source": [
    "Still somewhat better than the decision tree regressor."
   ]
  },
  {
   "cell_type": "markdown",
   "metadata": {},
   "source": [
    "# Conclusion\n",
    "\n",
    "My goal was to practice regression algorithms and do a machine learning exercise on my own. I did that sucessfully. I would probably get a better result with more preprocessing and better configurations, but this is fine for now.",
    "\n",
    "<h1> Note that the real prediction accuracy is around 85% by measuring RMSE and standard deviation, the 67% or 65% succes rate shows how much rounded values got predicted correctly.</h1>"
   ]
  }
 ],
 "metadata": {
  "kernelspec": {
   "display_name": "Python 3",
   "language": "python",
   "name": "python3"
  },
  "language_info": {
   "codemirror_mode": {
    "name": "ipython",
    "version": 3
   },
   "file_extension": ".py",
   "mimetype": "text/x-python",
   "name": "python",
   "nbconvert_exporter": "python",
   "pygments_lexer": "ipython3",
   "version": "3.6.4"
  }
 },
 "nbformat": 4,
 "nbformat_minor": 2
}
